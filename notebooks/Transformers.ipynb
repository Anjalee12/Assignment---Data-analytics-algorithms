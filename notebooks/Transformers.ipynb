{
 "cells": [
  {
   "cell_type": "code",
   "execution_count": 1,
   "id": "6326243e-eb05-45e3-ae81-bbeeb177d5f2",
   "metadata": {},
   "outputs": [
    {
     "name": "stderr",
     "output_type": "stream",
     "text": [
      "No model was supplied, defaulted to distilbert/distilbert-base-uncased-finetuned-sst-2-english and revision 714eb0f (https://huggingface.co/distilbert/distilbert-base-uncased-finetuned-sst-2-english).\n",
      "Using a pipeline without specifying a model name and revision in production is not recommended.\n"
     ]
    },
    {
     "name": "stdout",
     "output_type": "stream",
     "text": [
      "WARNING:tensorflow:From C:\\Users\\anjal\\DA_CA\\Lib\\site-packages\\tf_keras\\src\\losses.py:2976: The name tf.losses.sparse_softmax_cross_entropy is deprecated. Please use tf.compat.v1.losses.sparse_softmax_cross_entropy instead.\n",
      "\n",
      "WARNING:tensorflow:From C:\\Users\\anjal\\DA_CA\\Lib\\site-packages\\tf_keras\\src\\backend.py:873: The name tf.get_default_graph is deprecated. Please use tf.compat.v1.get_default_graph instead.\n",
      "\n"
     ]
    },
    {
     "name": "stderr",
     "output_type": "stream",
     "text": [
      "All PyTorch model weights were used when initializing TFDistilBertForSequenceClassification.\n",
      "\n",
      "All the weights of TFDistilBertForSequenceClassification were initialized from the PyTorch model.\n",
      "If your task is similar to the task the model of the checkpoint was trained on, you can already use TFDistilBertForSequenceClassification for predictions without further training.\n",
      "Device set to use 0\n"
     ]
    },
    {
     "name": "stdout",
     "output_type": "stream",
     "text": [
      "Text: I love deep learning!\n",
      "Prediction: {'label': 'POSITIVE', 'score': 0.9998645782470703}\n",
      "\n",
      "Text: This is a terrible movie.\n",
      "Prediction: {'label': 'NEGATIVE', 'score': 0.9996908903121948}\n",
      "\n"
     ]
    }
   ],
   "source": [
    "from transformers import pipeline\n",
    "\n",
    "# Load pre-trained BERT sentiment model\n",
    "nlp_model = pipeline(\"sentiment-analysis\")\n",
    "\n",
    "# Test with sample sentences\n",
    "texts = [\"I love deep learning!\", \"This is a terrible movie.\"]\n",
    "predictions = nlp_model(texts)\n",
    "\n",
    "# Print results\n",
    "for text, pred in zip(texts, predictions):\n",
    "    print(f\"Text: {text}\\nPrediction: {pred}\\n\")"
   ]
  },
  {
   "cell_type": "markdown",
   "id": "e4d80832-b0cc-499e-b7ae-2cad51a18ca4",
   "metadata": {},
   "source": [
    "### Handle Different Sentiments Separately"
   ]
  },
  {
   "cell_type": "code",
   "execution_count": 2,
   "id": "620b6cd4-e0cc-4adb-bd6c-468341e86138",
   "metadata": {},
   "outputs": [
    {
     "name": "stdout",
     "output_type": "stream",
     "text": [
      "Text: I love deep learning!\n",
      "Prediction: POSITIVE (Confidence: 1.00)\n",
      "Response: 😊 That sounds great!\n",
      "\n",
      "Text: This is a terrible movie.\n",
      "Prediction: NEGATIVE (Confidence: 1.00)\n",
      "Response: 😞 That doesn't seem good.\n",
      "\n"
     ]
    }
   ],
   "source": [
    "for text, pred in zip(texts, predictions):\n",
    "    sentiment, confidence = pred[\"label\"], pred[\"score\"]\n",
    "    \n",
    "    if sentiment == \"POSITIVE\":\n",
    "        response = \"😊 That sounds great!\"\n",
    "    else:\n",
    "        response = \"😞 That doesn't seem good.\"\n",
    "\n",
    "    print(f\"Text: {text}\\nPrediction: {sentiment} (Confidence: {confidence:.2f})\\nResponse: {response}\\n\")\n"
   ]
  },
  {
   "cell_type": "markdown",
   "id": "8fa6cd96-564c-469f-b2ce-ade335809b8e",
   "metadata": {},
   "source": [
    "### Try a Different Sentiment Model"
   ]
  },
  {
   "cell_type": "code",
   "execution_count": 3,
   "id": "d2067220-5cc4-4017-b556-24ba43c798ca",
   "metadata": {},
   "outputs": [
    {
     "name": "stderr",
     "output_type": "stream",
     "text": [
      "All model checkpoint layers were used when initializing TFRobertaForSequenceClassification.\n",
      "\n",
      "Some layers of TFRobertaForSequenceClassification were not initialized from the model checkpoint at cardiffnlp/twitter-roberta-base-sentiment-latest and are newly initialized: ['classifier']\n",
      "You should probably TRAIN this model on a down-stream task to be able to use it for predictions and inference.\n",
      "Device set to use 0\n"
     ]
    },
    {
     "name": "stdout",
     "output_type": "stream",
     "text": [
      "Text: I love deep learning!\n",
      "Prediction: {'label': 'neutral', 'score': 0.398252010345459}\n",
      "\n",
      "Text: This is a terrible movie.\n",
      "Prediction: {'label': 'neutral', 'score': 0.37008607387542725}\n",
      "\n"
     ]
    }
   ],
   "source": [
    "# Load pre-trained model\n",
    "nlp_model = pipeline(\"sentiment-analysis\", model=\"cardiffnlp/twitter-roberta-base-sentiment-latest\")\n",
    "\n",
    "\n",
    "# Test with sample sentences\n",
    "texts = [\"I love deep learning!\", \"This is a terrible movie.\"]\n",
    "predictions = nlp_model(texts)\n",
    "\n",
    "# Print results\n",
    "for text, pred in zip(texts, predictions):\n",
    "    print(f\"Text: {text}\\nPrediction: {pred}\\n\")"
   ]
  },
  {
   "cell_type": "markdown",
   "id": "cf205e63-1671-42cd-ab6c-5f4e549e60df",
   "metadata": {},
   "source": [
    "### Batch Processing for Efficiency"
   ]
  },
  {
   "cell_type": "code",
   "execution_count": 4,
   "id": "f795e1ce-7116-49ca-8c47-dc81aa31af0e",
   "metadata": {},
   "outputs": [
    {
     "name": "stderr",
     "output_type": "stream",
     "text": [
      "All PyTorch model weights were used when initializing TFDistilBertForSequenceClassification.\n",
      "\n",
      "All the weights of TFDistilBertForSequenceClassification were initialized from the PyTorch model.\n",
      "If your task is similar to the task the model of the checkpoint was trained on, you can already use TFDistilBertForSequenceClassification for predictions without further training.\n",
      "Device set to use 0\n"
     ]
    },
    {
     "name": "stdout",
     "output_type": "stream",
     "text": [
      "Text: I love deep learning!\n",
      "Prediction: {'label': 'POSITIVE', 'score': 0.9998645782470703}\n",
      "\n",
      "Text: This is a terrible movie.\n",
      "Prediction: {'label': 'NEGATIVE', 'score': 0.9996908903121948}\n",
      "\n",
      "Text: The product is amazing!\n",
      "Prediction: {'label': 'POSITIVE', 'score': 0.9998868703842163}\n",
      "\n",
      "Text: I hate waiting in long lines.\n",
      "Prediction: {'label': 'NEGATIVE', 'score': 0.9968921542167664}\n",
      "\n"
     ]
    }
   ],
   "source": [
    "nlp_model = pipeline(\"sentiment-analysis\", model=\"distilbert/distilbert-base-uncased-finetuned-sst-2-english\")\n",
    "\n",
    "texts = [\"I love deep learning!\", \"This is a terrible movie.\", \"The product is amazing!\", \"I hate waiting in long lines.\"]\n",
    "predictions = nlp_model(texts)\n",
    "\n",
    "for text, pred in zip(texts, predictions):\n",
    "    print(f\"Text: {text}\\nPrediction: {pred}\\n\")\n"
   ]
  },
  {
   "cell_type": "code",
   "execution_count": 5,
   "id": "a9c2c438-d84a-442c-a335-adc9b32f68e1",
   "metadata": {},
   "outputs": [
    {
     "data": {
      "image/png": "[encoded data removed]",
      "text/plain": [
       "<Figure size 640x480 with 1 Axes>"
      ]
     },
     "metadata": {},
     "output_type": "display_data"
    }
   ],
   "source": [
    "import matplotlib.pyplot as plt\n",
    "\n",
    "texts = [\"I love deep learning!\", \"This is a terrible movie.\", \"The product is amazing!\", \"I hate waiting in long lines.\"]\n",
    "predictions = nlp_model(texts)\n",
    "\n",
    "labels = [pred[\"label\"] for pred in predictions]\n",
    "scores = [pred[\"score\"] for pred in predictions]\n",
    "\n",
    "plt.barh(texts, scores, color=['green' if label == 'POSITIVE' else 'red' for label in labels])\n",
    "plt.xlabel(\"Confidence Score\")\n",
    "plt.ylabel(\"Text\")\n",
    "plt.title(\"Sentiment Analysis Results\")\n",
    "plt.show()\n"
   ]
  },
  {
   "cell_type": "markdown",
   "id": "47b9c166-4636-4e20-86a2-b6394ed0e71f",
   "metadata": {},
   "source": [
    "### Multilingual Sentiment Analysis"
   ]
  },
  {
   "cell_type": "code",
   "execution_count": 6,
   "id": "b5dc153c-1a5c-4e49-83d9-6e580c8199e8",
   "metadata": {},
   "outputs": [
    {
     "data": {
      "application/vnd.jupyter.widget-view+json": {
       "model_id": "ce46cd39808a414cad33f3f46ad8cef7",
       "version_major": 2,
       "version_minor": 0
      },
      "text/plain": [
       "config.json:   0%|          | 0.00/953 [00:00<?, ?B/s]"
      ]
     },
     "metadata": {},
     "output_type": "display_data"
    },
    {
     "name": "stderr",
     "output_type": "stream",
     "text": [
      "C:\\Users\\anjal\\DA_CA\\Lib\\site-packages\\huggingface_hub\\file_download.py:142: UserWarning: `huggingface_hub` cache-system uses symlinks by default to efficiently store duplicated files but your machine does not support them in C:\\Users\\anjal\\.cache\\huggingface\\hub\\models--nlptown--bert-base-multilingual-uncased-sentiment. Caching files will still work but in a degraded version that might require more space on your disk. This warning can be disabled by setting the `HF_HUB_DISABLE_SYMLINKS_WARNING` environment variable. For more details, see https://huggingface.co/docs/huggingface_hub/how-to-cache#limitations.\n",
      "To support symlinks on Windows, you either need to activate Developer Mode or to run Python as an administrator. In order to activate developer mode, see this article: https://docs.microsoft.com/en-us/windows/apps/get-started/enable-your-device-for-development\n",
      "  warnings.warn(message)\n"
     ]
    },
    {
     "data": {
      "application/vnd.jupyter.widget-view+json": {
       "model_id": "62a6de6d94b64692a65c9e384a9afe1c",
       "version_major": 2,
       "version_minor": 0
      },
      "text/plain": [
       "model.safetensors:   0%|          | 0.00/669M [00:00<?, ?B/s]"
      ]
     },
     "metadata": {},
     "output_type": "display_data"
    },
    {
     "name": "stderr",
     "output_type": "stream",
     "text": [
      "All PyTorch model weights were used when initializing TFBertForSequenceClassification.\n",
      "\n",
      "All the weights of TFBertForSequenceClassification were initialized from the PyTorch model.\n",
      "If your task is similar to the task the model of the checkpoint was trained on, you can already use TFBertForSequenceClassification for predictions without further training.\n"
     ]
    },
    {
     "data": {
      "application/vnd.jupyter.widget-view+json": {
       "model_id": "060cc90a1bf4458cb43a470d0a8b41ee",
       "version_major": 2,
       "version_minor": 0
      },
      "text/plain": [
       "tokenizer_config.json:   0%|          | 0.00/39.0 [00:00<?, ?B/s]"
      ]
     },
     "metadata": {},
     "output_type": "display_data"
    },
    {
     "data": {
      "application/vnd.jupyter.widget-view+json": {
       "model_id": "ff8252039b8e4b49ae53870de17147fb",
       "version_major": 2,
       "version_minor": 0
      },
      "text/plain": [
       "vocab.txt:   0%|          | 0.00/872k [00:00<?, ?B/s]"
      ]
     },
     "metadata": {},
     "output_type": "display_data"
    },
    {
     "data": {
      "application/vnd.jupyter.widget-view+json": {
       "model_id": "f2fc503e6d0b4997a57003123b552f29",
       "version_major": 2,
       "version_minor": 0
      },
      "text/plain": [
       "special_tokens_map.json:   0%|          | 0.00/112 [00:00<?, ?B/s]"
      ]
     },
     "metadata": {},
     "output_type": "display_data"
    },
    {
     "name": "stderr",
     "output_type": "stream",
     "text": [
      "Device set to use 0\n"
     ]
    },
    {
     "name": "stdout",
     "output_type": "stream",
     "text": [
      "Text: I love deep learning!\n",
      "Prediction: {'label': '5 stars', 'score': 0.8166466355323792}\n",
      "\n",
      "Text: Este producto es increíble!\n",
      "Prediction: {'label': '5 stars', 'score': 0.848731279373169}\n",
      "\n",
      "Text: Ce film est terrible.\n",
      "Prediction: {'label': '1 star', 'score': 0.7005010843276978}\n",
      "\n",
      "Text: Ich hasse es, in langen Schlangen zu warten.\n",
      "Prediction: {'label': '5 stars', 'score': 0.5530237555503845}\n",
      "\n",
      "Text: これは素晴らしいです！\n",
      "Prediction: {'label': '5 stars', 'score': 0.4931926429271698}\n",
      "\n"
     ]
    }
   ],
   "source": [
    "from transformers import pipeline\n",
    "\n",
    "# Load multilingual sentiment model\n",
    "nlp_model = pipeline(\"sentiment-analysis\", model=\"nlptown/bert-base-multilingual-uncased-sentiment\")\n",
    "\n",
    "# Sample texts in different languages\n",
    "texts = [\n",
    "    \"I love deep learning!\",  # English\n",
    "    \"Este producto es increíble!\",  # Spanish (\"This product is amazing!\")\n",
    "    \"Ce film est terrible.\",  # French (\"This movie is terrible.\")\n",
    "    \"Ich hasse es, in langen Schlangen zu warten.\",  # German (\"I hate waiting in long lines.\")\n",
    "    \"これは素晴らしいです！\"  # Japanese (\"This is wonderful!\")\n",
    "]\n",
    "\n",
    "# Get predictions\n",
    "predictions = nlp_model(texts)\n",
    "\n",
    "# Print results\n",
    "for text, pred in zip(texts, predictions):\n",
    "    print(f\"Text: {text}\\nPrediction: {pred}\\n\")\n"
   ]
  },
  {
   "cell_type": "code",
   "execution_count": null,
   "id": "d1bc2731-c664-430d-9dfc-e7b6b07d2275",
   "metadata": {},
   "outputs": [],
   "source": []
  }
 ],
 "metadata": {
  "kernelspec": {
   "display_name": "Python 3 (ipykernel)",
   "language": "python",
   "name": "python3"
  },
  "language_info": {
   "codemirror_mode": {
    "name": "ipython",
    "version": 3
   },
   "file_extension": ".py",
   "mimetype": "text/x-python",
   "name": "python",
   "nbconvert_exporter": "python",
   "pygments_lexer": "ipython3",
   "version": "3.12.9"
  }
 },
 "nbformat": 4,
 "nbformat_minor": 5
}
